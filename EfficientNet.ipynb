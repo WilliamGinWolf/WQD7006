{
 "cells": [
  {
   "cell_type": "code",
   "execution_count": 1,
   "metadata": {
    "pycharm": {
     "name": "#%%\n"
    },
    "tags": []
   },
   "outputs": [],
   "source": [
    "## 导入库\n",
    "import numpy as np\n",
    "import pandas as pd\n",
    "import tensorflow as tf\n",
    "from sklearn.model_selection import train_test_split\n",
    "import itertools\n",
    "import random\n",
    "import matplotlib.pyplot as plt\n",
    "import seaborn as sns\n",
    "from tensorflow import keras\n",
    "from tensorflow.keras import layers,models\n",
    "from tensorflow.keras.preprocessing.image import ImageDataGenerator\n",
    "from tensorflow.keras.layers import Dense, Dropout\n",
    "from tensorflow.keras.callbacks import Callback, EarlyStopping,ModelCheckpoint\n",
    "from tensorflow.keras.optimizers import Adam\n",
    "from tensorflow.keras import Model\n",
    "from tensorflow.keras.layers.experimental import preprocessing\n",
    "from pathlib import Path\n",
    "import os.path\n",
    "from sklearn.metrics import classification_report"
   ]
  },
  {
   "cell_type": "code",
   "execution_count": 2,
   "outputs": [],
   "source": [
    "BATCH_SIZE = 1024 ## 设置超参数\n",
    "TARGET_SIZE = (224, 224)"
   ],
   "metadata": {
    "collapsed": false,
    "pycharm": {
     "name": "#%%\n"
    }
   }
  },
  {
   "cell_type": "code",
   "execution_count": 3,
   "outputs": [],
   "source": [
    "dataset = \"./data/Image Data base\""
   ],
   "metadata": {
    "collapsed": false,
    "pycharm": {
     "name": "#%%\n"
    }
   }
  },
  {
   "cell_type": "code",
   "execution_count": 4,
   "outputs": [],
   "source": [
    "def readimg(dataset): ## 读取图片\n",
    "    image_dir = Path(dataset)\n",
    "    filepaths = list(image_dir.glob(r'**/*.JPG')) + list(image_dir.glob(r'**/*.jpg')) + list(image_dir.glob(r'**/*.png')) + list(image_dir.glob(r'**/*.PNG'))\n",
    "\n",
    "    labels = list(map(lambda x: os.path.split(os.path.split(x)[0])[1], filepaths))\n",
    "    filepaths = pd.Series(filepaths, name='Filepath').astype(str)\n",
    "    labels = pd.Series(labels, name='Label')\n",
    "\n",
    "    image_df = pd.concat([filepaths, labels], axis=1)\n",
    "    return image_df\n",
    "\n",
    "image_df = readimg(dataset)"
   ],
   "metadata": {
    "collapsed": false,
    "pycharm": {
     "name": "#%%\n"
    }
   }
  },
  {
   "cell_type": "code",
   "execution_count": 5,
   "outputs": [],
   "source": [
    "train_df, test_df = train_test_split(image_df, test_size=0.3, shuffle=True, random_state=10)## 按照训练集和测试集7:3分数据\n"
   ],
   "metadata": {
    "collapsed": false,
    "pycharm": {
     "name": "#%%\n"
    }
   }
  },
  {
   "cell_type": "code",
   "execution_count": 6,
   "outputs": [],
   "source": [
    "train_generator = ImageDataGenerator(\n",
    "    preprocessing_function=tf.keras.applications.efficientnet.preprocess_input,\n",
    "    validation_split=0.25\n",
    ")## 生成训练集数据\n",
    "\n",
    "test_generator = ImageDataGenerator(\n",
    "    preprocessing_function=tf.keras.applications.efficientnet.preprocess_input\n",
    ")## 生成测试集数据"
   ],
   "metadata": {
    "collapsed": false,
    "pycharm": {
     "name": "#%%\n"
    }
   }
  },
  {
   "cell_type": "code",
   "execution_count": 7,
   "outputs": [
    {
     "name": "stdout",
     "output_type": "stream",
     "text": [
      "Found 209649 validated image filenames belonging to 58 classes.\n",
      "Found 69882 validated image filenames belonging to 58 classes.\n",
      "Found 119799 validated image filenames belonging to 58 classes.\n"
     ]
    }
   ],
   "source": [
    "train_images = train_generator.flow_from_dataframe(\n",
    "    dataframe=train_df,\n",
    "    x_col='Filepath',\n",
    "    y_col='Label',\n",
    "    target_size=(224, 224),\n",
    "    color_mode='rgb',\n",
    "    class_mode='categorical',\n",
    "    batch_size=32,\n",
    "    shuffle=True,\n",
    "    seed=42,\n",
    "    subset='training'\n",
    ")## 生成训练集图像数据\n",
    "\n",
    "val_images = train_generator.flow_from_dataframe(\n",
    "    dataframe=train_df,\n",
    "    x_col='Filepath',\n",
    "    y_col='Label',\n",
    "    target_size=(224, 224),\n",
    "    color_mode='rgb',\n",
    "    class_mode='categorical',\n",
    "    batch_size=32,\n",
    "    shuffle=True,\n",
    "    seed=42,\n",
    "    subset='validation'\n",
    ")## 生成验证集图像数据\n",
    "\n",
    "test_images = test_generator.flow_from_dataframe(\n",
    "    dataframe=test_df,\n",
    "    x_col='Filepath',\n",
    "    y_col='Label',\n",
    "    target_size=(224, 224),\n",
    "    color_mode='rgb',\n",
    "    class_mode='categorical',\n",
    "    batch_size=32,\n",
    "    shuffle=False\n",
    ")# 生成测试集图像数据"
   ],
   "metadata": {
    "collapsed": false,
    "pycharm": {
     "name": "#%%\n"
    }
   }
  },
  {
   "cell_type": "code",
   "execution_count": 8,
   "outputs": [],
   "source": [
    "augment = tf.keras.Sequential([\n",
    "  layers.experimental.preprocessing.Resizing(224,224),\n",
    "  layers.experimental.preprocessing.Rescaling(1./255),\n",
    "  layers.experimental.preprocessing.RandomFlip(\"horizontal\"),\n",
    "    layers.experimental.preprocessing.RandomFlip(\"vertical\"),\n",
    "])## 设置模型的数据变换参数"
   ],
   "metadata": {
    "collapsed": false,
    "pycharm": {
     "name": "#%%\n"
    }
   }
  },
  {
   "cell_type": "code",
   "execution_count": 9,
   "outputs": [],
   "source": [
    "pretrained_model = tf.keras.applications.efficientnet.EfficientNetB7(\n",
    "    input_shape=(224, 224, 3),\n",
    "    include_top=False,\n",
    "    weights='imagenet',\n",
    "    pooling='max'\n",
    ")## 设置EfficientNetB7模型\n",
    "\n",
    "pretrained_model.trainable = False"
   ],
   "metadata": {
    "collapsed": false,
    "pycharm": {
     "name": "#%%\n"
    }
   }
  },
  {
   "cell_type": "code",
   "execution_count": 10,
   "outputs": [],
   "source": [
    "checkpoint_path = \"pests_cats_classification_model_checkpoint\"## 设置保存模型的ModelCheckpoint\n",
    "checkpoint_callback = ModelCheckpoint(checkpoint_path,\n",
    "                                      save_weights_only=True,\n",
    "                                      monitor=\"val_accuracy\",\n",
    "                                      save_best_only=True)"
   ],
   "metadata": {
    "collapsed": false,
    "pycharm": {
     "name": "#%%\n"
    }
   }
  },
  {
   "cell_type": "code",
   "execution_count": 11,
   "outputs": [],
   "source": [
    "## 设置提前停止训练的参数\n",
    "early_stopping = EarlyStopping(monitor = \"val_loss\",\n",
    "                               patience = 5,\n",
    "                               restore_best_weights = True)"
   ],
   "metadata": {
    "collapsed": false,
    "pycharm": {
     "name": "#%%\n"
    }
   }
  },
  {
   "cell_type": "code",
   "execution_count": 12,
   "outputs": [],
   "source": [
    "import datetime\n",
    "## 创建保存模型用的模型callback\n",
    "def create_tensorboard_callback(dir_name, experiment_name):\n",
    "\n",
    "    log_dir = dir_name + \"/\" + experiment_name + \"/\" + datetime.datetime.now().strftime(\"%Y%m%d-%H%M%S\")\n",
    "    tensorboard_callback = tf.keras.callbacks.TensorBoard(\n",
    "      log_dir=log_dir\n",
    "  )\n",
    "    print(f\"Saving TensorBoard log files to: {log_dir}\")\n",
    "    return tensorboard_callback"
   ],
   "metadata": {
    "collapsed": false,
    "pycharm": {
     "name": "#%%\n"
    }
   }
  },
  {
   "cell_type": "code",
   "execution_count": 15,
   "outputs": [
    {
     "name": "stdout",
     "output_type": "stream",
     "text": [
      "Saving TensorBoard log files to: training_logs/pests_cats_classification/20230503-135709\n",
      "Epoch 1/100\n",
      "6552/6552 [==============================] - 2552s 388ms/step - loss: 2.6815 - accuracy: 0.3655 - val_loss: 1.7940 - val_accuracy: 0.5530\n",
      "Epoch 2/100\n",
      "6552/6552 [==============================] - 2470s 377ms/step - loss: 1.8953 - accuracy: 0.5096 - val_loss: 1.3234 - val_accuracy: 0.6493\n",
      "Epoch 3/100\n",
      "6552/6552 [==============================] - 2424s 370ms/step - loss: 1.5665 - accuracy: 0.5746 - val_loss: 1.0520 - val_accuracy: 0.7242\n",
      "Epoch 4/100\n",
      "6552/6552 [==============================] - 2378s 363ms/step - loss: 1.3443 - accuracy: 0.6241 - val_loss: 0.8538 - val_accuracy: 0.7726\n",
      "Epoch 5/100\n",
      "6552/6552 [==============================] - 2378s 363ms/step - loss: 1.1779 - accuracy: 0.6646 - val_loss: 0.7162 - val_accuracy: 0.8117\n",
      "Epoch 6/100\n",
      "6552/6552 [==============================] - 2469s 377ms/step - loss: 1.0543 - accuracy: 0.6963 - val_loss: 0.6171 - val_accuracy: 0.8375\n",
      "Epoch 7/100\n",
      "6552/6552 [==============================] - 2504s 382ms/step - loss: 0.9566 - accuracy: 0.7220 - val_loss: 0.5441 - val_accuracy: 0.8550\n",
      "Epoch 8/100\n",
      "6552/6552 [==============================] - 3513s 536ms/step - loss: 0.8817 - accuracy: 0.7421 - val_loss: 0.4969 - val_accuracy: 0.8696\n",
      "Epoch 9/100\n",
      "6552/6552 [==============================] - 5284s 806ms/step - loss: 0.8203 - accuracy: 0.7587 - val_loss: 0.4510 - val_accuracy: 0.8788\n",
      "Epoch 10/100\n",
      "6552/6552 [==============================] - 2533s 387ms/step - loss: 0.7657 - accuracy: 0.7737 - val_loss: 0.4182 - val_accuracy: 0.8857\n",
      "Epoch 11/100\n",
      "6552/6552 [==============================] - 2556s 390ms/step - loss: 0.7228 - accuracy: 0.7849 - val_loss: 0.3860 - val_accuracy: 0.8917\n",
      "Epoch 12/100\n",
      "6552/6552 [==============================] - 2559s 391ms/step - loss: 0.6847 - accuracy: 0.7958 - val_loss: 0.3653 - val_accuracy: 0.8967\n",
      "Epoch 13/100\n",
      "6552/6552 [==============================] - 2534s 387ms/step - loss: 0.6535 - accuracy: 0.8038 - val_loss: 0.3433 - val_accuracy: 0.9028\n",
      "Epoch 14/100\n",
      "6552/6552 [==============================] - 2534s 387ms/step - loss: 0.6245 - accuracy: 0.8129 - val_loss: 0.3244 - val_accuracy: 0.9081\n",
      "Epoch 15/100\n",
      "6552/6552 [==============================] - 2513s 383ms/step - loss: 0.5973 - accuracy: 0.8196 - val_loss: 0.3106 - val_accuracy: 0.9109\n",
      "Epoch 16/100\n",
      "6552/6552 [==============================] - 2504s 382ms/step - loss: 0.5757 - accuracy: 0.8262 - val_loss: 0.2967 - val_accuracy: 0.9141\n",
      "Epoch 17/100\n",
      "6552/6552 [==============================] - 2465s 376ms/step - loss: 0.5559 - accuracy: 0.8310 - val_loss: 0.2808 - val_accuracy: 0.9185\n",
      "Epoch 18/100\n",
      "6552/6552 [==============================] - 2220s 339ms/step - loss: 0.5367 - accuracy: 0.8375 - val_loss: 0.2679 - val_accuracy: 0.9223\n",
      "Epoch 19/100\n",
      "6552/6552 [==============================] - 2219s 339ms/step - loss: 0.5200 - accuracy: 0.8420 - val_loss: 0.2604 - val_accuracy: 0.9239\n",
      "Epoch 20/100\n",
      "6552/6552 [==============================] - 2220s 339ms/step - loss: 0.5053 - accuracy: 0.8457 - val_loss: 0.2457 - val_accuracy: 0.9271\n",
      "Epoch 21/100\n",
      "6552/6552 [==============================] - 2219s 339ms/step - loss: 0.4906 - accuracy: 0.8508 - val_loss: 0.2396 - val_accuracy: 0.9297\n",
      "Epoch 22/100\n",
      "6552/6552 [==============================] - 2222s 339ms/step - loss: 0.4780 - accuracy: 0.8542 - val_loss: 0.2332 - val_accuracy: 0.9315\n",
      "Epoch 23/100\n",
      "6552/6552 [==============================] - 2248s 343ms/step - loss: 0.4677 - accuracy: 0.8574 - val_loss: 0.2255 - val_accuracy: 0.9335\n",
      "Epoch 24/100\n",
      "6552/6552 [==============================] - 2220s 339ms/step - loss: 0.4517 - accuracy: 0.8607 - val_loss: 0.2175 - val_accuracy: 0.9354\n",
      "Epoch 25/100\n",
      "6552/6552 [==============================] - 2221s 339ms/step - loss: 0.4430 - accuracy: 0.8630 - val_loss: 0.2101 - val_accuracy: 0.9377\n",
      "Epoch 26/100\n",
      "6552/6552 [==============================] - 2224s 339ms/step - loss: 0.4327 - accuracy: 0.8663 - val_loss: 0.2059 - val_accuracy: 0.9386\n",
      "Epoch 27/100\n",
      "6552/6552 [==============================] - 2250s 343ms/step - loss: 0.4224 - accuracy: 0.8694 - val_loss: 0.2023 - val_accuracy: 0.9405\n",
      "Epoch 28/100\n",
      "6552/6552 [==============================] - 2224s 339ms/step - loss: 0.4137 - accuracy: 0.8721 - val_loss: 0.1919 - val_accuracy: 0.9438\n",
      "Epoch 29/100\n",
      "2040/6552 [========>.....................] - ETA: 19:22 - loss: 0.4088 - accuracy: 0.8736"
     ]
    }
   ],
   "source": [
    "# 建立模型包括：模型输入，模型结构，模型的损失函数，模型的训练参数\n",
    "inputs = pretrained_model.input\n",
    "x = augment(inputs)\n",
    "\n",
    "x = Dense(128, activation='relu')(pretrained_model.output)\n",
    "x = Dropout(0.4)(x)\n",
    "x = Dense(256, activation='relu')(x)\n",
    "x = Dropout(0.6)(x)\n",
    "\n",
    "\n",
    "outputs = Dense(58, activation='softmax')(x)\n",
    "\n",
    "x = tf\n",
    "\n",
    "model = Model(inputs=inputs, outputs=outputs)\n",
    "## 编译模型\n",
    "model.compile(\n",
    "    optimizer=Adam(0.00001),\n",
    "    loss='categorical_crossentropy',\n",
    "    metrics=['accuracy']\n",
    ")\n",
    "## 训练模型\n",
    "history = model.fit(\n",
    "    train_images,\n",
    "    steps_per_epoch=len(train_images),\n",
    "    validation_data=val_images,\n",
    "    validation_steps=len(val_images),\n",
    "    epochs=100,\n",
    "    callbacks=[\n",
    "        early_stopping,\n",
    "        create_tensorboard_callback(\"training_logs\",\n",
    "                                    \"pests_cats_classification\"),\n",
    "        checkpoint_callback,\n",
    "    ]\n",
    ")"
   ],
   "metadata": {
    "collapsed": false,
    "pycharm": {
     "name": "#%%\n"
    }
   }
  },
  {
   "cell_type": "code",
   "execution_count": 18,
   "outputs": [],
   "source": [
    "results = model.evaluate(test_images, verbose=0)\n",
    "## 打印测试集准确率\n",
    "print(\"    Test Loss: {:.5f}\".format(results[0]))\n",
    "print(\"Test Accuracy: {:.2f}%\".format(results[1] * 100))"
   ],
   "metadata": {
    "collapsed": false,
    "pycharm": {
     "name": "#%%\n"
    }
   }
  },
  {
   "cell_type": "code",
   "execution_count": 19,
   "outputs": [],
   "source": [
    "## 绘制训练过程测试集和训练集的准确率和误差变化图\n",
    "accuracy = history.history['accuracy']\n",
    "val_accuracy = history.history['val_accuracy']\n",
    "\n",
    "loss = history.history['loss']\n",
    "val_loss = history.history['val_loss']\n",
    "\n",
    "epochs = range(len(accuracy))\n",
    "plt.plot(epochs, accuracy, 'b', label='Training accuracy')\n",
    "plt.plot(epochs, val_accuracy, 'r', label='Validation accuracy')\n",
    "\n",
    "plt.title('Training and validation accuracy')\n",
    "plt.legend()\n",
    "plt.figure()\n",
    "plt.plot(epochs, loss, 'b', label='Training loss')\n",
    "plt.plot(epochs, val_loss, 'r', label='Validation loss')\n",
    "\n",
    "plt.title('Training and validation loss')\n",
    "plt.legend()\n",
    "plt.show()"
   ],
   "metadata": {
    "collapsed": false,
    "pycharm": {
     "name": "#%%\n"
    }
   }
  },
  {
   "cell_type": "code",
   "execution_count": 20,
   "outputs": [],
   "source": [
    "### 对测试集进行预测，展示5个结果\n",
    "pred = model.predict(test_images)\n",
    "pred = np.argmax(pred,axis=1)\n",
    "\n",
    "labels = (train_images.class_indices)\n",
    "labels = dict((v,k) for k,v in labels.items())\n",
    "pred = [labels[k] for k in pred]\n",
    "\n",
    "print(f'The first 5 predictions: {pred[:10]}')"
   ],
   "metadata": {
    "collapsed": false,
    "pycharm": {
     "name": "#%%\n"
    }
   }
  },
  {
   "cell_type": "code",
   "execution_count": 21,
   "outputs": [],
   "source": [
    "## 展示分类结果\n",
    "random_index = np.random.randint(0, len(test_df) - 1, 15)\n",
    "fig, axes = plt.subplots(nrows=3, ncols=5, figsize=(25, 15),\n",
    "                        subplot_kw={'xticks': [], 'yticks': []})\n",
    "\n",
    "for i, ax in enumerate(axes.flat):\n",
    "    ax.imshow(plt.imread(test_df.Filepath.iloc[random_index[i]]))\n",
    "    if test_df.Label.iloc[random_index[i]] == pred[random_index[i]]:\n",
    "        color = \"green\"\n",
    "    else:\n",
    "        color = \"red\"\n",
    "    ax.set_title(f\"True: {test_df.Label.iloc[random_index[i]]}\\nPredicted: {pred[random_index[i]]}\", color=color)\n",
    "plt.show()\n",
    "plt.tight_layout()"
   ],
   "metadata": {
    "collapsed": false,
    "pycharm": {
     "name": "#%%\n"
    }
   }
  },
  {
   "cell_type": "code",
   "execution_count": 22,
   "outputs": [],
   "source": [
    "## 打印测试集预测结果\n",
    "y_test = list(test_df.Label)\n",
    "print(classification_report(y_test, pred))"
   ],
   "metadata": {
    "collapsed": false,
    "pycharm": {
     "name": "#%%\n"
    }
   }
  },
  {
   "cell_type": "code",
   "execution_count": null,
   "outputs": [],
   "source": [],
   "metadata": {
    "collapsed": false,
    "pycharm": {
     "name": "#%%\n"
    }
   }
  },
  {
   "cell_type": "code",
   "execution_count": null,
   "metadata": {},
   "outputs": [],
   "source": []
  }
 ],
 "metadata": {
  "kernelspec": {
   "display_name": "Python 3 (ipykernel)",
   "language": "python",
   "name": "python3"
  },
  "language_info": {
   "codemirror_mode": {
    "name": "ipython",
    "version": 3
   },
   "file_extension": ".py",
   "mimetype": "text/x-python",
   "name": "python",
   "nbconvert_exporter": "python",
   "pygments_lexer": "ipython3",
   "version": "3.10.5"
  }
 },
 "nbformat": 4,
 "nbformat_minor": 4
}